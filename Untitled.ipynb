{
 "cells": [
  {
   "cell_type": "code",
   "execution_count": 18,
   "metadata": {},
   "outputs": [
    {
     "data": {
      "text/plain": [
       "1.959963984540054"
      ]
     },
     "execution_count": 18,
     "metadata": {},
     "output_type": "execute_result"
    }
   ],
   "source": [
    "# z for 0.975\n",
    "from scipy import stats\n",
    "z_norm = stats.norm.ppf(0.975)\n",
    "z_norm"
   ]
  },
  {
   "cell_type": "markdown",
   "metadata": {},
   "source": [
    "# Problem \"Legend Breakers\""
   ]
  },
  {
   "cell_type": "code",
   "execution_count": 42,
   "metadata": {},
   "outputs": [
    {
     "data": {
      "text/plain": [
       "(0.29411764705882354, 0.25)"
      ]
     },
     "execution_count": 42,
     "metadata": {},
     "output_type": "execute_result"
    }
   ],
   "source": [
    "# initial data\n",
    "pos_1 , n_1 = 10, 34\n",
    "pos_2 , n_2 = 4 , 16\n",
    "# possibilities\n",
    "p_1, p_2 = pos_1/n_1, pos_2/n_2\n",
    "p_1,p_2"
   ]
  },
  {
   "cell_type": "code",
   "execution_count": 38,
   "metadata": {},
   "outputs": [
    {
     "data": {
      "text/plain": [
       "(0.07814248990059665, 0.10825317547305482)"
      ]
     },
     "execution_count": 38,
     "metadata": {},
     "output_type": "execute_result"
    }
   ],
   "source": [
    "# sigma for\n",
    "def sigma_prop(pos, n):\n",
    "    p = pos/n\n",
    "    return (p*(1-p)/n)**0.5 \n",
    "\n",
    "s_1, s_2 = sigma_prop(pos_1 , n_1), sigma_prop(pos_2 , n_2)\n",
    "s_1, s_2"
   ]
  },
  {
   "cell_type": "code",
   "execution_count": 45,
   "metadata": {},
   "outputs": [
    {
     "name": "stdout",
     "output_type": "stream",
     "text": [
      "Interval for 0.29411764705882354 : (0.1409611811913692, 0.4472741129262779)\n",
      "Interval for 0.25 : (0.03782767486071781, 0.4621723251392822)\n"
     ]
    }
   ],
   "source": [
    "# 0.95 \"normal\" confident intervals\n",
    "def normal_confident_interval(p, n):\n",
    "    sigma = (p*(1-p)/n)**0.5\n",
    "    return (p - z_norm*sigma, p + z_norm*sigma)\n",
    "\n",
    "for p,n in zip((p_1,p_2),(n_1,n_2)):\n",
    "    print(f\"Interval for {p} : {normal_confident_interval(p,n)}\")"
   ]
  },
  {
   "cell_type": "code",
   "execution_count": null,
   "metadata": {},
   "outputs": [],
   "source": [
    "# 0.95 \"normal\" confident intervals using libs from stats"
   ]
  },
  {
   "cell_type": "code",
   "execution_count": 9,
   "metadata": {},
   "outputs": [
    {
     "data": {
      "text/plain": [
       "(0.10182067491213043, 0.4949831653550878)"
      ]
     },
     "execution_count": 9,
     "metadata": {},
     "output_type": "execute_result"
    }
   ],
   "source": [
    "proportion_confint(4, 16, method = 'wilson')"
   ]
  },
  {
   "cell_type": "code",
   "execution_count": null,
   "metadata": {},
   "outputs": [],
   "source": []
  },
  {
   "cell_type": "code",
   "execution_count": null,
   "metadata": {},
   "outputs": [],
   "source": []
  }
 ],
 "metadata": {
  "kernelspec": {
   "display_name": "Python 3",
   "language": "python",
   "name": "python3"
  },
  "language_info": {
   "codemirror_mode": {
    "name": "ipython",
    "version": 3
   },
   "file_extension": ".py",
   "mimetype": "text/x-python",
   "name": "python",
   "nbconvert_exporter": "python",
   "pygments_lexer": "ipython3",
   "version": "3.7.4"
  }
 },
 "nbformat": 4,
 "nbformat_minor": 2
}
